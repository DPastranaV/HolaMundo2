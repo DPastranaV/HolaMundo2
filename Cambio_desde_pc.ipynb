{
 "cells": [
  {
   "cell_type": "markdown",
   "id": "8610b273-c95d-40f0-ad84-851138e22e93",
   "metadata": {},
   "source": [
    "# Este es el archivo creado desde mi pc"
   ]
  },
  {
   "cell_type": "markdown",
   "id": "17464209-7b42-4abe-a59e-e29d5cadd28f",
   "metadata": {},
   "source": [
    "# $ \\frac{d}{dx} $"
   ]
  },
  {
   "cell_type": "code",
   "execution_count": 17,
   "id": "add0abbb-dece-42ea-919f-b5ff8546fbbb",
   "metadata": {},
   "outputs": [
    {
     "data": {
      "text/plain": [
       "array([0.34569173, 0.02992079, 0.59293403, 0.87288687, 0.82309049,\n",
       "       0.25389438, 0.1919499 , 0.19236666, 0.08525962, 0.1845671 ])"
      ]
     },
     "execution_count": 17,
     "metadata": {},
     "output_type": "execute_result"
    }
   ],
   "source": [
    "import numpy as np\n",
    "\n",
    "np.random.rand(10)"
   ]
  }
 ],
 "metadata": {
  "kernelspec": {
   "display_name": "Python 3 (ipykernel)",
   "language": "python",
   "name": "python3"
  },
  "language_info": {
   "codemirror_mode": {
    "name": "ipython",
    "version": 3
   },
   "file_extension": ".py",
   "mimetype": "text/x-python",
   "name": "python",
   "nbconvert_exporter": "python",
   "pygments_lexer": "ipython3",
   "version": "3.11.3"
  }
 },
 "nbformat": 4,
 "nbformat_minor": 5
}
